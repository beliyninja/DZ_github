{
 "cells": [
  {
   "cell_type": "code",
   "execution_count": 8,
   "id": "89a25fd3-b8d9-4265-a560-90f84062af03",
   "metadata": {},
   "outputs": [],
   "source": [
    "import pandas as pd"
   ]
  },
  {
   "cell_type": "code",
   "execution_count": 10,
   "id": "8d233352-5a11-40de-842e-568556246645",
   "metadata": {},
   "outputs": [],
   "source": [
    "#Подключение к БД и вывод содержимого таблицы 'flights'"
   ]
  },
  {
   "cell_type": "code",
   "execution_count": 12,
   "id": "1bd1138e-2053-4597-9ef2-761378228611",
   "metadata": {},
   "outputs": [
    {
     "name": "stderr",
     "output_type": "stream",
     "text": [
      "C:\\Users\\#slash\\AppData\\Local\\Temp\\ipykernel_9036\\4009591350.py:3: UserWarning: pandas only supports SQLAlchemy connectable (engine/connection) or database string URI or sqlite3 DBAPI2 connection. Other DBAPI2 objects are not tested. Please consider using SQLAlchemy.\n",
      "  df=pd.read_sql('select * from flights', con=engine)\n"
     ]
    },
    {
     "data": {
      "text/html": [
       "<div>\n",
       "<style scoped>\n",
       "    .dataframe tbody tr th:only-of-type {\n",
       "        vertical-align: middle;\n",
       "    }\n",
       "\n",
       "    .dataframe tbody tr th {\n",
       "        vertical-align: top;\n",
       "    }\n",
       "\n",
       "    .dataframe thead th {\n",
       "        text-align: right;\n",
       "    }\n",
       "</style>\n",
       "<table border=\"1\" class=\"dataframe\">\n",
       "  <thead>\n",
       "    <tr style=\"text-align: right;\">\n",
       "      <th></th>\n",
       "      <th>flight_id</th>\n",
       "      <th>flight_no</th>\n",
       "      <th>scheduled_departure</th>\n",
       "      <th>scheduled_arrival</th>\n",
       "      <th>departure_airport</th>\n",
       "      <th>arrival_airport</th>\n",
       "      <th>status</th>\n",
       "      <th>aircraft_code</th>\n",
       "      <th>actual_departure</th>\n",
       "      <th>actual_arrival</th>\n",
       "    </tr>\n",
       "  </thead>\n",
       "  <tbody>\n",
       "    <tr>\n",
       "      <th>0</th>\n",
       "      <td>182</td>\n",
       "      <td>PG0402</td>\n",
       "      <td>2017-09-01 09:25:00+00:00</td>\n",
       "      <td>2017-09-01 10:20:00+00:00</td>\n",
       "      <td>DME</td>\n",
       "      <td>LED</td>\n",
       "      <td>Scheduled</td>\n",
       "      <td>321</td>\n",
       "      <td>NaT</td>\n",
       "      <td>NaT</td>\n",
       "    </tr>\n",
       "    <tr>\n",
       "      <th>1</th>\n",
       "      <td>1996</td>\n",
       "      <td>PG0335</td>\n",
       "      <td>2017-08-26 06:30:00+00:00</td>\n",
       "      <td>2017-08-26 08:35:00+00:00</td>\n",
       "      <td>DME</td>\n",
       "      <td>JOK</td>\n",
       "      <td>Scheduled</td>\n",
       "      <td>CN1</td>\n",
       "      <td>NaT</td>\n",
       "      <td>NaT</td>\n",
       "    </tr>\n",
       "    <tr>\n",
       "      <th>2</th>\n",
       "      <td>5979</td>\n",
       "      <td>PG0384</td>\n",
       "      <td>2017-08-26 09:10:00+00:00</td>\n",
       "      <td>2017-08-26 09:40:00+00:00</td>\n",
       "      <td>DME</td>\n",
       "      <td>BZK</td>\n",
       "      <td>Scheduled</td>\n",
       "      <td>SU9</td>\n",
       "      <td>NaT</td>\n",
       "      <td>NaT</td>\n",
       "    </tr>\n",
       "    <tr>\n",
       "      <th>3</th>\n",
       "      <td>8136</td>\n",
       "      <td>PG0138</td>\n",
       "      <td>2017-08-28 07:15:00+00:00</td>\n",
       "      <td>2017-08-28 08:20:00+00:00</td>\n",
       "      <td>VKO</td>\n",
       "      <td>RTW</td>\n",
       "      <td>Scheduled</td>\n",
       "      <td>CR2</td>\n",
       "      <td>NaT</td>\n",
       "      <td>NaT</td>\n",
       "    </tr>\n",
       "    <tr>\n",
       "      <th>4</th>\n",
       "      <td>10455</td>\n",
       "      <td>PG0277</td>\n",
       "      <td>2017-09-12 08:45:00+00:00</td>\n",
       "      <td>2017-09-12 12:10:00+00:00</td>\n",
       "      <td>SVO</td>\n",
       "      <td>OVB</td>\n",
       "      <td>Scheduled</td>\n",
       "      <td>773</td>\n",
       "      <td>NaT</td>\n",
       "      <td>NaT</td>\n",
       "    </tr>\n",
       "    <tr>\n",
       "      <th>...</th>\n",
       "      <td>...</td>\n",
       "      <td>...</td>\n",
       "      <td>...</td>\n",
       "      <td>...</td>\n",
       "      <td>...</td>\n",
       "      <td>...</td>\n",
       "      <td>...</td>\n",
       "      <td>...</td>\n",
       "      <td>...</td>\n",
       "      <td>...</td>\n",
       "    </tr>\n",
       "    <tr>\n",
       "      <th>65659</th>\n",
       "      <td>65660</td>\n",
       "      <td>PG0063</td>\n",
       "      <td>2017-06-26 16:25:00+00:00</td>\n",
       "      <td>2017-06-26 17:10:00+00:00</td>\n",
       "      <td>SKX</td>\n",
       "      <td>SVO</td>\n",
       "      <td>Arrived</td>\n",
       "      <td>CR2</td>\n",
       "      <td>2017-06-26 16:27:00+00:00</td>\n",
       "      <td>2017-06-26 17:12:00+00:00</td>\n",
       "    </tr>\n",
       "    <tr>\n",
       "      <th>65660</th>\n",
       "      <td>65661</td>\n",
       "      <td>PG0063</td>\n",
       "      <td>2017-08-10 16:25:00+00:00</td>\n",
       "      <td>2017-08-10 17:10:00+00:00</td>\n",
       "      <td>SKX</td>\n",
       "      <td>SVO</td>\n",
       "      <td>Arrived</td>\n",
       "      <td>CR2</td>\n",
       "      <td>2017-08-10 16:27:00+00:00</td>\n",
       "      <td>2017-08-10 17:13:00+00:00</td>\n",
       "    </tr>\n",
       "    <tr>\n",
       "      <th>65661</th>\n",
       "      <td>65662</td>\n",
       "      <td>PG0063</td>\n",
       "      <td>2017-06-16 16:25:00+00:00</td>\n",
       "      <td>2017-06-16 17:10:00+00:00</td>\n",
       "      <td>SKX</td>\n",
       "      <td>SVO</td>\n",
       "      <td>Arrived</td>\n",
       "      <td>CR2</td>\n",
       "      <td>2017-06-16 16:28:00+00:00</td>\n",
       "      <td>2017-06-16 17:14:00+00:00</td>\n",
       "    </tr>\n",
       "    <tr>\n",
       "      <th>65662</th>\n",
       "      <td>65663</td>\n",
       "      <td>PG0063</td>\n",
       "      <td>2017-09-10 16:25:00+00:00</td>\n",
       "      <td>2017-09-10 17:10:00+00:00</td>\n",
       "      <td>SKX</td>\n",
       "      <td>SVO</td>\n",
       "      <td>Scheduled</td>\n",
       "      <td>CR2</td>\n",
       "      <td>NaT</td>\n",
       "      <td>NaT</td>\n",
       "    </tr>\n",
       "    <tr>\n",
       "      <th>65663</th>\n",
       "      <td>65664</td>\n",
       "      <td>PG0063</td>\n",
       "      <td>2017-08-22 16:25:00+00:00</td>\n",
       "      <td>2017-08-22 17:10:00+00:00</td>\n",
       "      <td>SKX</td>\n",
       "      <td>SVO</td>\n",
       "      <td>Scheduled</td>\n",
       "      <td>CR2</td>\n",
       "      <td>NaT</td>\n",
       "      <td>NaT</td>\n",
       "    </tr>\n",
       "  </tbody>\n",
       "</table>\n",
       "<p>65664 rows × 10 columns</p>\n",
       "</div>"
      ],
      "text/plain": [
       "       flight_id flight_no       scheduled_departure  \\\n",
       "0            182    PG0402 2017-09-01 09:25:00+00:00   \n",
       "1           1996    PG0335 2017-08-26 06:30:00+00:00   \n",
       "2           5979    PG0384 2017-08-26 09:10:00+00:00   \n",
       "3           8136    PG0138 2017-08-28 07:15:00+00:00   \n",
       "4          10455    PG0277 2017-09-12 08:45:00+00:00   \n",
       "...          ...       ...                       ...   \n",
       "65659      65660    PG0063 2017-06-26 16:25:00+00:00   \n",
       "65660      65661    PG0063 2017-08-10 16:25:00+00:00   \n",
       "65661      65662    PG0063 2017-06-16 16:25:00+00:00   \n",
       "65662      65663    PG0063 2017-09-10 16:25:00+00:00   \n",
       "65663      65664    PG0063 2017-08-22 16:25:00+00:00   \n",
       "\n",
       "              scheduled_arrival departure_airport arrival_airport     status  \\\n",
       "0     2017-09-01 10:20:00+00:00               DME             LED  Scheduled   \n",
       "1     2017-08-26 08:35:00+00:00               DME             JOK  Scheduled   \n",
       "2     2017-08-26 09:40:00+00:00               DME             BZK  Scheduled   \n",
       "3     2017-08-28 08:20:00+00:00               VKO             RTW  Scheduled   \n",
       "4     2017-09-12 12:10:00+00:00               SVO             OVB  Scheduled   \n",
       "...                         ...               ...             ...        ...   \n",
       "65659 2017-06-26 17:10:00+00:00               SKX             SVO    Arrived   \n",
       "65660 2017-08-10 17:10:00+00:00               SKX             SVO    Arrived   \n",
       "65661 2017-06-16 17:10:00+00:00               SKX             SVO    Arrived   \n",
       "65662 2017-09-10 17:10:00+00:00               SKX             SVO  Scheduled   \n",
       "65663 2017-08-22 17:10:00+00:00               SKX             SVO  Scheduled   \n",
       "\n",
       "      aircraft_code          actual_departure            actual_arrival  \n",
       "0               321                       NaT                       NaT  \n",
       "1               CN1                       NaT                       NaT  \n",
       "2               SU9                       NaT                       NaT  \n",
       "3               CR2                       NaT                       NaT  \n",
       "4               773                       NaT                       NaT  \n",
       "...             ...                       ...                       ...  \n",
       "65659           CR2 2017-06-26 16:27:00+00:00 2017-06-26 17:12:00+00:00  \n",
       "65660           CR2 2017-08-10 16:27:00+00:00 2017-08-10 17:13:00+00:00  \n",
       "65661           CR2 2017-06-16 16:28:00+00:00 2017-06-16 17:14:00+00:00  \n",
       "65662           CR2                       NaT                       NaT  \n",
       "65663           CR2                       NaT                       NaT  \n",
       "\n",
       "[65664 rows x 10 columns]"
      ]
     },
     "execution_count": 12,
     "metadata": {},
     "output_type": "execute_result"
    }
   ],
   "source": [
    "import psycopg2\n",
    "engine=psycopg2.connect(\"dbname='demo' user='postgres' host='localhost' port='5432' password='123'\")\n",
    "df=pd.read_sql('select * from flights', con=engine)\n",
    "df"
   ]
  },
  {
   "cell_type": "code",
   "execution_count": 16,
   "id": "2cbf61b1-aae7-448d-9fdd-dee09c4cedd4",
   "metadata": {},
   "outputs": [],
   "source": [
    "import numpy as n"
   ]
  },
  {
   "cell_type": "code",
   "execution_count": 18,
   "id": "6a28bd9b-7264-48ee-b2ce-df3f23d51869",
   "metadata": {},
   "outputs": [],
   "source": [
    "#Запрос к БД. Вывод информации по загрузке рейсов"
   ]
  },
  {
   "cell_type": "code",
   "execution_count": 20,
   "id": "3d44fa25-a81d-40ac-8f52-ab4eafabfaa4",
   "metadata": {},
   "outputs": [
    {
     "name": "stderr",
     "output_type": "stream",
     "text": [
      "C:\\Users\\#slash\\AppData\\Local\\Temp\\ipykernel_9036\\3898673718.py:32: UserWarning: pandas only supports SQLAlchemy connectable (engine/connection) or database string URI or sqlite3 DBAPI2 connection. Other DBAPI2 objects are not tested. Please consider using SQLAlchemy.\n",
      "  df=pd.read_sql(query, con=engine)\n"
     ]
    }
   ],
   "source": [
    "import psycopg2\n",
    "query= f\"\"\"\n",
    "with departure_trips AS (SELECT flights.departure_airport as airport, to_char(flights.actual_departure,'YYYY-MM-DD')\n",
    "as airdate, count(boarding_passes.ticket_no) as amount\n",
    "FROM flights\n",
    "inner join boarding_passes\n",
    "on (flights.flight_id=boarding_passes.flight_id)\n",
    "where flights.status='Arrived'\n",
    "group by flights.departure_airport, flights.actual_departure\n",
    "order by flights.actual_departure),\n",
    "arrival_trips AS (SELECT flights.arrival_airport as airport, to_char(flights.actual_arrival,'YYYY-MM-DD') as airdate, count(boarding_passes.ticket_no) as amount\n",
    "FROM flights\n",
    "inner join boarding_passes\n",
    "on (flights.flight_id=boarding_passes.flight_id)\n",
    "where flights.status='Arrived'\n",
    "group by flights.arrival_airport, flights.actual_arrival\n",
    "order by flights.actual_arrival)\n",
    "select airdate, airport, airports_data.airport_name -> 'ru' as airname, sum(amount),\n",
    "case when sum(amount) < 100 then 'Малая нагрузка'\n",
    "     when sum(amount) > 1000 then 'Большая нагрузка'\n",
    "else 'Средняя нагрузка'\n",
    "end as airport_analys\n",
    "from\n",
    "(select arrival_trips.airport, arrival_trips.airdate, arrival_trips.amount from arrival_trips\n",
    "union \n",
    "select departure_trips.airport, departure_trips.airdate, departure_trips.amount from departure_trips)\n",
    "inner join airports_data\n",
    "on airports_data.airport_code=airport\n",
    "group by airdate, airport, airports_data.airport_name\n",
    "order by airdate, airport;\"\"\"\n",
    "engine=psycopg2.connect(\"dbname='demo' user='postgres' host='localhost' port='5432' password='123'\")\n",
    "df=pd.read_sql(query, con=engine)"
   ]
  },
  {
   "cell_type": "code",
   "execution_count": 22,
   "id": "cd497976-53a8-4a85-ac1e-95451e5f3ec9",
   "metadata": {},
   "outputs": [],
   "source": [
    "#Вывод первых 15-ти строк"
   ]
  },
  {
   "cell_type": "code",
   "execution_count": 24,
   "id": "d55da93f-394a-4336-9a86-0fb8e857e3f3",
   "metadata": {},
   "outputs": [
    {
     "data": {
      "text/html": [
       "<div>\n",
       "<style scoped>\n",
       "    .dataframe tbody tr th:only-of-type {\n",
       "        vertical-align: middle;\n",
       "    }\n",
       "\n",
       "    .dataframe tbody tr th {\n",
       "        vertical-align: top;\n",
       "    }\n",
       "\n",
       "    .dataframe thead th {\n",
       "        text-align: right;\n",
       "    }\n",
       "</style>\n",
       "<table border=\"1\" class=\"dataframe\">\n",
       "  <thead>\n",
       "    <tr style=\"text-align: right;\">\n",
       "      <th></th>\n",
       "      <th>airdate</th>\n",
       "      <th>airport</th>\n",
       "      <th>airname</th>\n",
       "      <th>sum</th>\n",
       "      <th>airport_analys</th>\n",
       "    </tr>\n",
       "  </thead>\n",
       "  <tbody>\n",
       "    <tr>\n",
       "      <th>0</th>\n",
       "      <td>2017-05-17</td>\n",
       "      <td>AAQ</td>\n",
       "      <td>Витязево</td>\n",
       "      <td>53.0</td>\n",
       "      <td>Малая нагрузка</td>\n",
       "    </tr>\n",
       "    <tr>\n",
       "      <th>1</th>\n",
       "      <td>2017-05-17</td>\n",
       "      <td>ABA</td>\n",
       "      <td>Абакан</td>\n",
       "      <td>11.0</td>\n",
       "      <td>Малая нагрузка</td>\n",
       "    </tr>\n",
       "    <tr>\n",
       "      <th>2</th>\n",
       "      <td>2017-05-17</td>\n",
       "      <td>AER</td>\n",
       "      <td>Сочи</td>\n",
       "      <td>134.0</td>\n",
       "      <td>Средняя нагрузка</td>\n",
       "    </tr>\n",
       "    <tr>\n",
       "      <th>3</th>\n",
       "      <td>2017-05-17</td>\n",
       "      <td>ARH</td>\n",
       "      <td>Талаги</td>\n",
       "      <td>36.0</td>\n",
       "      <td>Малая нагрузка</td>\n",
       "    </tr>\n",
       "    <tr>\n",
       "      <th>4</th>\n",
       "      <td>2017-05-17</td>\n",
       "      <td>ASF</td>\n",
       "      <td>Астрахань</td>\n",
       "      <td>33.0</td>\n",
       "      <td>Малая нагрузка</td>\n",
       "    </tr>\n",
       "    <tr>\n",
       "      <th>5</th>\n",
       "      <td>2017-05-17</td>\n",
       "      <td>BAX</td>\n",
       "      <td>Барнаул</td>\n",
       "      <td>8.0</td>\n",
       "      <td>Малая нагрузка</td>\n",
       "    </tr>\n",
       "    <tr>\n",
       "      <th>6</th>\n",
       "      <td>2017-05-17</td>\n",
       "      <td>BQS</td>\n",
       "      <td>Игнатьево</td>\n",
       "      <td>10.0</td>\n",
       "      <td>Малая нагрузка</td>\n",
       "    </tr>\n",
       "    <tr>\n",
       "      <th>7</th>\n",
       "      <td>2017-05-17</td>\n",
       "      <td>BTK</td>\n",
       "      <td>Братск</td>\n",
       "      <td>23.0</td>\n",
       "      <td>Малая нагрузка</td>\n",
       "    </tr>\n",
       "    <tr>\n",
       "      <th>8</th>\n",
       "      <td>2017-05-17</td>\n",
       "      <td>BZK</td>\n",
       "      <td>Брянск</td>\n",
       "      <td>241.0</td>\n",
       "      <td>Средняя нагрузка</td>\n",
       "    </tr>\n",
       "    <tr>\n",
       "      <th>9</th>\n",
       "      <td>2017-05-17</td>\n",
       "      <td>CEK</td>\n",
       "      <td>Челябинск</td>\n",
       "      <td>67.0</td>\n",
       "      <td>Малая нагрузка</td>\n",
       "    </tr>\n",
       "    <tr>\n",
       "      <th>10</th>\n",
       "      <td>2017-05-17</td>\n",
       "      <td>CNN</td>\n",
       "      <td>Чульман</td>\n",
       "      <td>2.0</td>\n",
       "      <td>Малая нагрузка</td>\n",
       "    </tr>\n",
       "    <tr>\n",
       "      <th>11</th>\n",
       "      <td>2017-05-17</td>\n",
       "      <td>CSY</td>\n",
       "      <td>Чебоксары</td>\n",
       "      <td>203.0</td>\n",
       "      <td>Средняя нагрузка</td>\n",
       "    </tr>\n",
       "    <tr>\n",
       "      <th>12</th>\n",
       "      <td>2017-05-17</td>\n",
       "      <td>DME</td>\n",
       "      <td>Домодедово</td>\n",
       "      <td>1191.0</td>\n",
       "      <td>Большая нагрузка</td>\n",
       "    </tr>\n",
       "    <tr>\n",
       "      <th>13</th>\n",
       "      <td>2017-05-17</td>\n",
       "      <td>EGO</td>\n",
       "      <td>Белгород</td>\n",
       "      <td>14.0</td>\n",
       "      <td>Малая нагрузка</td>\n",
       "    </tr>\n",
       "    <tr>\n",
       "      <th>14</th>\n",
       "      <td>2017-05-17</td>\n",
       "      <td>ESL</td>\n",
       "      <td>Элиста</td>\n",
       "      <td>80.0</td>\n",
       "      <td>Малая нагрузка</td>\n",
       "    </tr>\n",
       "  </tbody>\n",
       "</table>\n",
       "</div>"
      ],
      "text/plain": [
       "       airdate airport     airname     sum    airport_analys\n",
       "0   2017-05-17     AAQ    Витязево    53.0    Малая нагрузка\n",
       "1   2017-05-17     ABA      Абакан    11.0    Малая нагрузка\n",
       "2   2017-05-17     AER        Сочи   134.0  Средняя нагрузка\n",
       "3   2017-05-17     ARH      Талаги    36.0    Малая нагрузка\n",
       "4   2017-05-17     ASF   Астрахань    33.0    Малая нагрузка\n",
       "5   2017-05-17     BAX     Барнаул     8.0    Малая нагрузка\n",
       "6   2017-05-17     BQS   Игнатьево    10.0    Малая нагрузка\n",
       "7   2017-05-17     BTK      Братск    23.0    Малая нагрузка\n",
       "8   2017-05-17     BZK      Брянск   241.0  Средняя нагрузка\n",
       "9   2017-05-17     CEK   Челябинск    67.0    Малая нагрузка\n",
       "10  2017-05-17     CNN     Чульман     2.0    Малая нагрузка\n",
       "11  2017-05-17     CSY   Чебоксары   203.0  Средняя нагрузка\n",
       "12  2017-05-17     DME  Домодедово  1191.0  Большая нагрузка\n",
       "13  2017-05-17     EGO    Белгород    14.0    Малая нагрузка\n",
       "14  2017-05-17     ESL      Элиста    80.0    Малая нагрузка"
      ]
     },
     "execution_count": 24,
     "metadata": {},
     "output_type": "execute_result"
    }
   ],
   "source": [
    "df.head(15)"
   ]
  },
  {
   "cell_type": "code",
   "execution_count": 26,
   "id": "ad02bc39-14d7-494b-bfa0-0099e5a459a5",
   "metadata": {},
   "outputs": [],
   "source": [
    "# вывод типов данных"
   ]
  },
  {
   "cell_type": "code",
   "execution_count": 28,
   "id": "8ad4b4ae-c4f5-4061-972b-65c83c66b0c7",
   "metadata": {},
   "outputs": [
    {
     "data": {
      "text/plain": [
       "pandas.core.frame.DataFrame"
      ]
     },
     "execution_count": 28,
     "metadata": {},
     "output_type": "execute_result"
    }
   ],
   "source": [
    "type (df)"
   ]
  },
  {
   "cell_type": "code",
   "execution_count": 30,
   "id": "385134eb-3b6b-4e71-9cda-8f0edd12d320",
   "metadata": {},
   "outputs": [
    {
     "data": {
      "text/plain": [
       "airdate            object\n",
       "airport            object\n",
       "airname            object\n",
       "sum               float64\n",
       "airport_analys     object\n",
       "dtype: object"
      ]
     },
     "execution_count": 30,
     "metadata": {},
     "output_type": "execute_result"
    }
   ],
   "source": [
    "df.dtypes"
   ]
  },
  {
   "cell_type": "code",
   "execution_count": null,
   "id": "a8fdebf9-0b96-4e2d-81a0-799c15c432a3",
   "metadata": {},
   "outputs": [],
   "source": [
    "#число уникальных значений по столбцу \"model\""
   ]
  },
  {
   "cell_type": "code",
   "execution_count": 32,
   "id": "50c63aa1-91e8-4cbf-bd83-0739a9d27cf9",
   "metadata": {},
   "outputs": [
    {
     "name": "stdout",
     "output_type": "stream",
     "text": [
      "airname\n",
      "Омск-Центральный       92\n",
      "Ульяновск-Восточный    92\n",
      "Уфа                    92\n",
      "Богашёво               92\n",
      "Краснодар              92\n",
      "                       ..\n",
      "Усинск                 37\n",
      "Магадан                37\n",
      "Стрежевой              26\n",
      "Горно-Алтайск          25\n",
      "Нягань                 25\n",
      "Name: count, Length: 94, dtype: int64\n"
     ]
    }
   ],
   "source": [
    "b=df['airname'].value_counts()\n",
    "print(b)"
   ]
  },
  {
   "cell_type": "code",
   "execution_count": null,
   "id": "5fec718d-5a52-48fd-ada7-2f8eb8a4c8ab",
   "metadata": {},
   "outputs": [],
   "source": [
    "#число повторяющихся значений по столбцам"
   ]
  },
  {
   "cell_type": "code",
   "execution_count": 34,
   "id": "fd39851f-a5c4-4db9-98b4-6e194f74e809",
   "metadata": {},
   "outputs": [
    {
     "name": "stdout",
     "output_type": "stream",
     "text": [
      "airdate           8007\n",
      "airport           8005\n",
      "airname           8005\n",
      "sum               6673\n",
      "airport_analys    8096\n",
      "dtype: int64\n"
     ]
    }
   ],
   "source": [
    "df1=df.apply(lambda x:sum(x.duplicated()))\n",
    "print(df1)"
   ]
  },
  {
   "cell_type": "code",
   "execution_count": 40,
   "id": "73834963-8e2a-4006-ad2b-f3b119931486",
   "metadata": {},
   "outputs": [],
   "source": [
    "#минимальное значение по столбцу 'sum'"
   ]
  },
  {
   "cell_type": "code",
   "execution_count": 42,
   "id": "b0f335fb-5d02-49b5-b3ff-7f988e41495d",
   "metadata": {},
   "outputs": [
    {
     "name": "stdout",
     "output_type": "stream",
     "text": [
      "минимальное кол-во мест в самолете: 1.0\n"
     ]
    }
   ],
   "source": [
    "value_min=df['sum'].min()\n",
    "print('Минимальное количество людей на аэропорт за день:', value_min)"
   ]
  },
  {
   "cell_type": "code",
   "execution_count": null,
   "id": "2fad6b6d-411b-418e-81f0-382b6c093fcf",
   "metadata": {},
   "outputs": [],
   "source": [
    "#максимальное значение количества мест в самолете(столбец 'total_seats')"
   ]
  },
  {
   "cell_type": "code",
   "execution_count": 44,
   "id": "4167837e-bd7e-4793-8f5c-fe25b28d16ec",
   "metadata": {},
   "outputs": [
    {
     "name": "stdout",
     "output_type": "stream",
     "text": [
      "Максимальное количество людей на аэропорт за день: 5868.0\n"
     ]
    }
   ],
   "source": [
    "value_max=df['sum'].max()\n",
    "print('Максимальное количество людей на аэропорт за день:', value_max)"
   ]
  },
  {
   "cell_type": "code",
   "execution_count": 46,
   "id": "b2fb94d9-f478-41ad-9e0d-6b81eadff9ed",
   "metadata": {},
   "outputs": [],
   "source": [
    "#подсчет медианы по загрузке аэропортов(столбец 'sum')"
   ]
  },
  {
   "cell_type": "code",
   "execution_count": 48,
   "id": "f4ef3124-76c2-4bda-b95a-f20ac6b706bc",
   "metadata": {},
   "outputs": [
    {
     "name": "stdout",
     "output_type": "stream",
     "text": [
      "181.0\n"
     ]
    }
   ],
   "source": [
    "med=df['sum'].median()\n",
    "print(med)"
   ]
  },
  {
   "cell_type": "code",
   "execution_count": 50,
   "id": "a0f56b16-a5de-4eb8-b2c8-8af33723b1bc",
   "metadata": {},
   "outputs": [],
   "source": [
    "#подсчет среднего значения загрузки аэропортов (столбец 'sum')"
   ]
  },
  {
   "cell_type": "code",
   "execution_count": 52,
   "id": "571b2a80-e533-4803-9a8f-d29060a3e08a",
   "metadata": {},
   "outputs": [
    {
     "data": {
      "text/plain": [
       "426.73700456846524"
      ]
     },
     "execution_count": 52,
     "metadata": {},
     "output_type": "execute_result"
    }
   ],
   "source": [
    "sred=df['sum'].mean()\n",
    "sred\n"
   ]
  }
 ],
 "metadata": {
  "kernelspec": {
   "display_name": "Python 3 (ipykernel)",
   "language": "python",
   "name": "python3"
  },
  "language_info": {
   "codemirror_mode": {
    "name": "ipython",
    "version": 3
   },
   "file_extension": ".py",
   "mimetype": "text/x-python",
   "name": "python",
   "nbconvert_exporter": "python",
   "pygments_lexer": "ipython3",
   "version": "3.12.4"
  }
 },
 "nbformat": 4,
 "nbformat_minor": 5
}
